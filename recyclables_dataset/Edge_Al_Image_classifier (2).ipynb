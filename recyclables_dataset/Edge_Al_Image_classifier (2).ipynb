{
  "nbformat": 4,
  "nbformat_minor": 0,
  "metadata": {
    "colab": {
      "provenance": []
    },
    "kernelspec": {
      "name": "python3",
      "display_name": "Python 3"
    },
    "language_info": {
      "name": "python"
    }
  },
  "cells": [
    {
      "cell_type": "code",
      "execution_count": 2,
      "metadata": {
        "colab": {
          "base_uri": "https://localhost:8080/"
        },
        "id": "FewUIllk5lJq",
        "outputId": "3acd1fe6-3db5-406e-9a09-2c63df8f9c13"
      },
      "outputs": [
        {
          "output_type": "stream",
          "name": "stderr",
          "text": [
            "/usr/local/lib/python3.11/dist-packages/keras/src/layers/convolutional/base_conv.py:107: UserWarning: Do not pass an `input_shape`/`input_dim` argument to a layer. When using Sequential models, prefer using an `Input(shape)` object as the first layer in the model instead.\n",
            "  super().__init__(activity_regularizer=activity_regularizer, **kwargs)\n"
          ]
        },
        {
          "output_type": "stream",
          "name": "stdout",
          "text": [
            "Epoch 1/5\n",
            "\u001b[1m313/313\u001b[0m \u001b[32m━━━━━━━━━━━━━━━━━━━━\u001b[0m\u001b[37m\u001b[0m \u001b[1m9s\u001b[0m 25ms/step - accuracy: 0.7631 - loss: 0.4746 - val_accuracy: 0.8910 - val_loss: 0.2579\n",
            "Epoch 2/5\n",
            "\u001b[1m313/313\u001b[0m \u001b[32m━━━━━━━━━━━━━━━━━━━━\u001b[0m\u001b[37m\u001b[0m \u001b[1m7s\u001b[0m 21ms/step - accuracy: 0.8894 - loss: 0.2556 - val_accuracy: 0.8840 - val_loss: 0.2642\n",
            "Epoch 3/5\n",
            "\u001b[1m313/313\u001b[0m \u001b[32m━━━━━━━━━━━━━━━━━━━━\u001b[0m\u001b[37m\u001b[0m \u001b[1m10s\u001b[0m 20ms/step - accuracy: 0.9148 - loss: 0.2098 - val_accuracy: 0.9215 - val_loss: 0.2038\n",
            "Epoch 4/5\n",
            "\u001b[1m313/313\u001b[0m \u001b[32m━━━━━━━━━━━━━━━━━━━━\u001b[0m\u001b[37m\u001b[0m \u001b[1m10s\u001b[0m 21ms/step - accuracy: 0.9297 - loss: 0.1799 - val_accuracy: 0.9265 - val_loss: 0.1887\n",
            "Epoch 5/5\n",
            "\u001b[1m313/313\u001b[0m \u001b[32m━━━━━━━━━━━━━━━━━━━━\u001b[0m\u001b[37m\u001b[0m \u001b[1m11s\u001b[0m 24ms/step - accuracy: 0.9407 - loss: 0.1547 - val_accuracy: 0.9310 - val_loss: 0.1641\n",
            "\u001b[1m63/63\u001b[0m \u001b[32m━━━━━━━━━━━━━━━━━━━━\u001b[0m\u001b[37m\u001b[0m \u001b[1m0s\u001b[0m 7ms/step - accuracy: 0.9286 - loss: 0.1530\n",
            "Test Accuracy: 0.93\n"
          ]
        }
      ],
      "source": [
        "# ✅ Step 1: Import Libraries\n",
        "import tensorflow as tf\n",
        "from tensorflow.keras import layers, models\n",
        "import numpy as np\n",
        "\n",
        "# ✅ Step 2: Load Dataset (use CIFAR-10 as simulation)\n",
        "(x_train, y_train), (x_test, y_test) = tf.keras.datasets.cifar10.load_data()\n",
        "\n",
        "# ✅ Step 3: Filter to use only class 0 (airplane) and class 1 (automobile)\n",
        "train_mask = (y_train == 0) | (y_train == 1)\n",
        "test_mask = (y_test == 0) | (y_test == 1)\n",
        "\n",
        "x_train, y_train = x_train[train_mask[:, 0]], y_train[train_mask[:, 0]]\n",
        "x_test, y_test = x_test[test_mask[:, 0]], y_test[test_mask[:, 0]]\n",
        "\n",
        "# ✅ Step 4: Normalize images\n",
        "x_train = x_train / 255.0\n",
        "x_test = x_test / 255.0\n",
        "\n",
        "# ✅ Step 5: Build the CNN Model\n",
        "model = models.Sequential([\n",
        "    layers.Conv2D(16, (3, 3), activation='relu', input_shape=(32, 32, 3)),\n",
        "    layers.MaxPooling2D((2, 2)),\n",
        "    layers.Conv2D(32, (3, 3), activation='relu'),\n",
        "    layers.MaxPooling2D((2, 2)),\n",
        "    layers.Flatten(),\n",
        "    layers.Dense(64, activation='relu'),\n",
        "    layers.Dense(1, activation='sigmoid')  # Binary classification\n",
        "])\n",
        "\n",
        "model.compile(optimizer='adam',\n",
        "              loss='binary_crossentropy',\n",
        "              metrics=['accuracy'])\n",
        "\n",
        "# ✅ Step 6: Train the model\n",
        "model.fit(x_train, y_train, epochs=5, validation_data=(x_test, y_test))\n",
        "\n",
        "# ✅ Step 7: Evaluate the model\n",
        "loss, acc = model.evaluate(x_test, y_test)\n",
        "print(f\"Test Accuracy: {acc:.2f}\")\n"
      ]
    },
    {
      "cell_type": "code",
      "source": [
        "# ✅ Step 8: Convert to TFLite model\n",
        "converter = tf.lite.TFLiteConverter.from_keras_model(model)\n",
        "tflite_model = converter.convert()\n",
        "\n",
        "# ✅ Step 9: Save the TFLite model\n",
        "with open(\"edge_model.tflite\", \"wb\") as f:\n",
        "    f.write(tflite_model)\n",
        "\n",
        "print(\"Model successfully converted and saved as 'edge_model.tflite'\")\n"
      ],
      "metadata": {
        "colab": {
          "base_uri": "https://localhost:8080/"
        },
        "id": "izXIfqCb6tyy",
        "outputId": "253aa9e6-9633-4e84-d889-0b50add2b44e"
      },
      "execution_count": 3,
      "outputs": [
        {
          "output_type": "stream",
          "name": "stdout",
          "text": [
            "Saved artifact at '/tmp/tmpsvst4fny'. The following endpoints are available:\n",
            "\n",
            "* Endpoint 'serve'\n",
            "  args_0 (POSITIONAL_ONLY): TensorSpec(shape=(None, 32, 32, 3), dtype=tf.float32, name='keras_tensor_8')\n",
            "Output Type:\n",
            "  TensorSpec(shape=(None, 1), dtype=tf.float32, name=None)\n",
            "Captures:\n",
            "  135926428221712: TensorSpec(shape=(), dtype=tf.resource, name=None)\n",
            "  135926428227664: TensorSpec(shape=(), dtype=tf.resource, name=None)\n",
            "  135926428224016: TensorSpec(shape=(), dtype=tf.resource, name=None)\n",
            "  135926428226320: TensorSpec(shape=(), dtype=tf.resource, name=None)\n",
            "  135926428223632: TensorSpec(shape=(), dtype=tf.resource, name=None)\n",
            "  135926428228240: TensorSpec(shape=(), dtype=tf.resource, name=None)\n",
            "  135926428225360: TensorSpec(shape=(), dtype=tf.resource, name=None)\n",
            "  135926428225552: TensorSpec(shape=(), dtype=tf.resource, name=None)\n",
            "Model successfully converted and saved as 'edge_model.tflite'\n"
          ]
        }
      ]
    }
  ]
}